{
 "cells": [
  {
   "cell_type": "code",
   "execution_count": 1,
   "metadata": {},
   "outputs": [],
   "source": [
    "import json\n",
    "\n",
    "from FP_Classes.RSS_Feed import RSS_Article, RSS_Feed, Article_Set\n",
    "from FP_Classes.Tag import Tag, Tag_Set\n",
    "\n",
    "from FP_Classes.RSS_DB_Connection import RSS_DB_Connection\n",
    "\n",
    "config = json.load(open('config.json'))\n",
    "db_creds = json.load(open(config['db-creds-json-path']))\n",
    "\n",
    "\n",
    "dbConn:RSS_DB_Connection = RSS_DB_Connection(\n",
    "                                    username=db_creds['username'],\n",
    "                                    password=db_creds['password'],\n",
    "                                    host=db_creds['host']\n",
    "                                )"
   ]
  },
  {
   "cell_type": "code",
   "execution_count": 2,
   "metadata": {},
   "outputs": [
    {
     "name": "stdout",
     "output_type": "stream",
     "text": [
      "\n",
      "NOTICE in RSS_DB_Connection.newTagsFromExcel(): called newTagsFromExcel() - beginning process.\n",
      "NOTICE in RSS_DB_Connection.newTagSetsFromExcel(): excel sheet read and DB connection established successfully. Formatting query...\n",
      "NOTICE in RSS_DB_Connection.newTagSetsFromExcel(): new tag set query formatted and executed successfully. Terminating connections and quitting.\n",
      "SUCCESS.\n",
      "\n",
      "NOTICE in RSS_DB_Connection.newTagsFromExcel(): called newTagsFromExcel() - beginning process.\n",
      "NOTICE in RSS_DB_Connection.newTagsFromExcel(): excel sheet read and DB connection established successfully. Formatting query...\n",
      "INSERT IGNORE INTO TAG_IN_SET(id, tag_name, set_name) VALUES(\"0512ffa4165fdc1b2b42a409bdf18e05d0a3027c\", \"zero-day\", \"zero-day\"),(\"844d56f572b333ae4b7fc8c76d2b9620c319dc9c\", \"zero day\", \"zero-day\"),(\"a0c9b2c59cabdbad754e661a0222dd7add0d0bfc\", \"zeroday\", \"zero-day\"),(\"2ee171f9efb898281654221fd3416b0860c83cc5\", \"Iran\", \"Iran\"),(\"90f7dffb903e88905b2c8f4c4bdcfdc6f1cdb972\", \"Iranian\", \"Iran\"),(\"46641bb8cf7688d11d6f08f73618a1ed61ca1d54\", \"North Korea\", \"North Korea\"),(\"dce6e6d860390cf02fb7a7a428024a86aeec5641\", \"North Korean\", \"North Korea\"),(\"3f52961b599fef9f8f86dac35497d287ed3ebc0d\", \"Russia\", \"Russia\"),(\"cca7636857e8bfcba950a660f9aeebe1dc1da59a\", \"Russian\", \"Russia\"),(\"ecb8e33290f60ee1575bd5884efe2ec0e36b2302\", \"China\", \"China\"),(\"c6659296a9c87fcbbe481890d06797df60102776\", \"Chinese\", \"China\"),(\"ef196dfa1ea9599936498ac9c5538e29f359c858\", \"hacked\", \"nan\"),(\"e12c20a5740f3dd155309425353cc511f9189693\", \"breach\", \"nan\"),(\"377127a065081e193b8e314d94fcfbf74ea057e3\", \"APT\", \"APT\"),(\"481746297aa05995e397c40f5406b6a574af8eeb\", \"BianLian\", \"eCrime\"),(\"346c6f51609afccce4f064faf2c96672b0c14be6\", \"GOSSAMER BEAR\", \"Russia\"),(\"9fad550147552d9309ddb0da12ea2351ea647a04\", \"COZY BEAR\", \"Russia\"),(\"98e7dbef2013b22291f42abf0e371ac7e511909e\", \"VOODOO BEAR\", \"Iran\"),(\"a3ac0ed8c219e86a0f2cd77edf393f50215d83eb\", \"CHARMING KITTEN\", \"Iran\"),(\"d7622221a07bb64a9526ead4a578292b20175e67\", \"BERSERK BEAR\", \"Russia\"),(\"1d14002ed8456ae1815e06219c0effd4be1e28a2\", \"VENOMOUS BEAR\", \"Russia\"),(\"26477ffd9379cccda75b50aadd4f3a4689e5fd3a\", \"SILENT CHOLLIMA\", \"North Korea\"),(\"f48a405a2142e5dcb216ecbbf836dc96355fa75a\", \"LABYRINTH CHOLLIMA\", \"North Korea\"),(\"531ed7d9371b71bc99e2531b24fcab53465c13a8\", \"STATIC KITTEN\", \"Iran\"),(\"9af78f46530b2837ed6b0d586847028d3cf6d5df\", \"IMPERIAL KITTEN\", \"Iran\"),(\"3e0606ff22655312f633a46e9292a9a8b81a0a2c\", \"KRYPTONITE PANDA\", \"China\"),(\"7a71e526f2ff93fe25aaddb2a7f0a5d8e82b9dac\", \"WICKED PANDA\", \"China\"),(\"b1cb2d81054591a81c122c81cb040b9d369d1b73\", \"VELVET CHOLLIMA\", \"North Korea\"),(\"a56ead65862f4d3d4bc09f6eeb93df3e35c465be\", \"PIONEER KITTEN\", \"Iran\"),(\"d92aa4588d4abef6fe6a71fbb9d164fa983d908d\", \"CHRONO KITTEN\", \"Iran\"),(\"8ed2d435e454831d8e8461490f921abaaf751e05\", \"PUZZLE PANDA\", \"China\"),(\"0b8813d1e13fd2b6ba159453584a1aedc80a0a0a\", \"MUSTANG PANDA\", \"China\"),(\"294c35000cffb5f9a46cb540540c59292d9a8e5e\", \"PIRATE PANDA\", \"China\"),(\"b356ba254423278e2f6b7bb3292a5d7e7bab3d47\", \"VIXEN PANDA\", \"China\"),(\"32458450c0846e8c6ca7f2430589306e8c4c78cc\", \"EMISSARY PANDA\", \"China\"),(\"df9158c66833269edaab3a276237bca44c870723\", \"PINCHY SPIDER\", \"eCrime\"),(\"fb892329f4d5db15bef1b840be06b175389dcfdd\", \"VIKING SPIDER\", \"eCrime\"),(\"00bb1d2f6a0e117644b99f9ff49e829e107b9a60\", \"WIZARD SPIDER\", \"eCrime\"),(\"f827ababb91e4caa3022f90add0f28b1524503a6\", \"HIVE SPIDER\", \"eCrime\"),(\"97d509b847bf04142872355e14fdd20157cedb22\", \"AVIATOR SPIDER\", \"eCrime\"),(\"7691181c6d5e5c96930b95e7254d63819c857288\", \"CARBON SPIDER\", \"eCrime\"),(\"ce0e2dba24b2b9ac46e3e762f7306d3991987832\", \"INDRIK SPIDER\", \"eCrime\"),(\"6907028b71d7a069f2bb26823cc107b3a8780ab3\", \"BITWISE SPIDER\", \"eCrime\"),(\"e0a3cab7e70b9316ad33fdcfec4f633cfdebe3a1\", \"FERAL SPIDER\", \"eCrime\"),(\"6f9efb72134ea95fa0334bcf0f17c4cde0ccdcb8\", \"CYBORG SPIDER\", \"eCrime\"),(\"363ad7c425591aa1dea8b02a743f7027488532b7\", \"GRACEFUL SPIDER\", \"eCrime\"),(\"844423e897082a4a46265e6bf2329b13a56d6cc0\", \"DOPPEL SPIDER\", \"eCrime\"),(\"c9ec29c43c9ac4c68f3c6e028680d2a99a8dd33a\", \"VICE SPIDER\", \"eCrime\"),(\"d402a11c7d9bc48e6f2cb525b91455200cb41cac\", \"SMOKY SPIDER\", \"eCrime\"),(\"ae09074ace5f9e355f47acbd521caaf8bdcf0cf2\", \"SPRITE SPIDER\", \"eCrime\"),(\"5ad1cebb71fb30188796f47c16e3332967125c56\", \"FRONTLINE JACKAL\", \"eCrime\"),(\"fade8b98e172de013b42987cc92442c0ba119739\", \"AI\", \"Artificial Intelligence\"),(\"b7f3b71d9dbe248c448fcd17ada126052a74fce8\", \"artificial intelligence\", \"Artificial Intelligence\"),(\"a6325a7bd25d51dfbbe7d56d6fb2fe59becdc008\", \"CVE\", \"CVE\"),(\"b0450e8d4839ec19e522eb1e4a471de02b433996\", \"Lazarus\", \"North Korea\"),(\"d5be7d966dc04483634f04ddaeedbd3a184788cb\", \"XSS\", \"Techniques\")\n",
      "NOTICE in RSS_DB_Connection.newTagsFromExcel(): new tag queries formatted and executed successfully. Terminating connections and quitting.\n",
      "SUCCESS.\n"
     ]
    },
    {
     "data": {
      "text/plain": [
       "True"
      ]
     },
     "execution_count": 2,
     "metadata": {},
     "output_type": "execute_result"
    }
   ],
   "source": [
    "dbConn.newTagSetsFromExcel('all_tag_sets.xlsx')\n",
    "dbConn.newTagsFromExcel('all_tags.xlsx')"
   ]
  },
  {
   "cell_type": "markdown",
   "metadata": {},
   "source": [
    "## Article_Set"
   ]
  },
  {
   "cell_type": "code",
   "execution_count": 3,
   "metadata": {},
   "outputs": [
    {
     "ename": "KeyboardInterrupt",
     "evalue": "",
     "output_type": "error",
     "traceback": [
      "\u001b[1;31m---------------------------------------------------------------------------\u001b[0m",
      "\u001b[1;31mKeyboardInterrupt\u001b[0m                         Traceback (most recent call last)",
      "Cell \u001b[1;32mIn[3], line 1\u001b[0m\n\u001b[1;32m----> 1\u001b[0m all_articles:\u001b[39mlist\u001b[39m[RSS_Article] \u001b[39m=\u001b[39m dbConn\u001b[39m.\u001b[39;49mgetAllArticles()\n\u001b[0;32m      3\u001b[0m article_set:Article_Set \u001b[39m=\u001b[39m Article_Set(\u001b[39m'\u001b[39m\u001b[39mNorth Korea\u001b[39m\u001b[39m'\u001b[39m, \u001b[39m'\u001b[39m\u001b[39mArticles discussing North Korean actors\u001b[39m\u001b[39m'\u001b[39m)\n\u001b[0;32m      5\u001b[0m i \u001b[39m=\u001b[39m \u001b[39m0\u001b[39m\n",
      "File \u001b[1;32mc:\\Users\\jjhea\\OneDrive\\Coding-Practice-and-Apps\\web-stuff\\rss-feed-scraping\\FP_Classes\\RSS_DB_Connection.py:110\u001b[0m, in \u001b[0;36mRSS_DB_Connection.getAllArticles\u001b[1;34m(self)\u001b[0m\n\u001b[0;32m    107\u001b[0m getTagsQuery:\u001b[39mstr\u001b[39m \u001b[39m=\u001b[39m \u001b[39mf\u001b[39m\u001b[39m\"\u001b[39m\u001b[39mSELECT * FROM TAG_FOR_ARTICLE WHERE article_title = \u001b[39m\u001b[39m\\\"\u001b[39;00m\u001b[39m{\u001b[39;00mr[\u001b[39m1\u001b[39m]\u001b[39m}\u001b[39;00m\u001b[39m\\\"\u001b[39;00m\u001b[39m\"\u001b[39m   \u001b[39m# Create the query to get the tags\u001b[39;00m\n\u001b[0;32m    109\u001b[0m \u001b[39mtry\u001b[39;00m: \n\u001b[1;32m--> 110\u001b[0m     cursor\u001b[39m.\u001b[39;49mexecute(getTagsQuery)                              \u001b[39m# Execute the query to get these tags\u001b[39;00m\n\u001b[0;32m    111\u001b[0m     tagsResults \u001b[39m=\u001b[39m cursor\u001b[39m.\u001b[39mfetchall()                           \u001b[39m# Fetch results from the query\u001b[39;00m\n\u001b[0;32m    112\u001b[0m     \u001b[39mfor\u001b[39;00m t \u001b[39min\u001b[39;00m tagsResults: thisArticle\u001b[39m.\u001b[39mtags\u001b[39m.\u001b[39mappend(Tag(t[\u001b[39m0\u001b[39m], t[\u001b[39m1\u001b[39m], t[\u001b[39m2\u001b[39m])) \u001b[39m# Add the results of the tags query to the Article as Tag objects\u001b[39;00m\n",
      "File \u001b[1;32mc:\\Users\\jjhea\\AppData\\Local\\Programs\\Python\\Python311\\Lib\\site-packages\\mysql\\connector\\cursor_cext.py:330\u001b[0m, in \u001b[0;36mCMySQLCursor.execute\u001b[1;34m(self, operation, params, multi)\u001b[0m\n\u001b[0;32m    325\u001b[0m             \u001b[39mraise\u001b[39;00m ProgrammingError(\n\u001b[0;32m    326\u001b[0m                 \u001b[39m\"\u001b[39m\u001b[39mNot all parameters were used in the SQL statement\u001b[39m\u001b[39m\"\u001b[39m\n\u001b[0;32m    327\u001b[0m             )\n\u001b[0;32m    329\u001b[0m \u001b[39mtry\u001b[39;00m:\n\u001b[1;32m--> 330\u001b[0m     result \u001b[39m=\u001b[39m \u001b[39mself\u001b[39;49m\u001b[39m.\u001b[39;49m_cnx\u001b[39m.\u001b[39;49mcmd_query(\n\u001b[0;32m    331\u001b[0m         stmt,\n\u001b[0;32m    332\u001b[0m         raw\u001b[39m=\u001b[39;49m\u001b[39mself\u001b[39;49m\u001b[39m.\u001b[39;49m_raw,\n\u001b[0;32m    333\u001b[0m         buffered\u001b[39m=\u001b[39;49m\u001b[39mself\u001b[39;49m\u001b[39m.\u001b[39;49m_buffered,\n\u001b[0;32m    334\u001b[0m         raw_as_string\u001b[39m=\u001b[39;49m\u001b[39mself\u001b[39;49m\u001b[39m.\u001b[39;49m_raw_as_string,\n\u001b[0;32m    335\u001b[0m     )\n\u001b[0;32m    336\u001b[0m \u001b[39mexcept\u001b[39;00m MySQLInterfaceError \u001b[39mas\u001b[39;00m err:\n\u001b[0;32m    337\u001b[0m     \u001b[39mraise\u001b[39;00m get_mysql_exception(\n\u001b[0;32m    338\u001b[0m         msg\u001b[39m=\u001b[39merr\u001b[39m.\u001b[39mmsg, errno\u001b[39m=\u001b[39merr\u001b[39m.\u001b[39merrno, sqlstate\u001b[39m=\u001b[39merr\u001b[39m.\u001b[39msqlstate\n\u001b[0;32m    339\u001b[0m     ) \u001b[39mfrom\u001b[39;00m \u001b[39merr\u001b[39;00m\n",
      "File \u001b[1;32mc:\\Users\\jjhea\\AppData\\Local\\Programs\\Python\\Python311\\Lib\\site-packages\\mysql\\connector\\connection_cext.py:611\u001b[0m, in \u001b[0;36mCMySQLConnection.cmd_query\u001b[1;34m(self, query, raw, buffered, raw_as_string)\u001b[0m\n\u001b[0;32m    609\u001b[0m     \u001b[39mif\u001b[39;00m \u001b[39mnot\u001b[39;00m \u001b[39misinstance\u001b[39m(query, \u001b[39mbytes\u001b[39m):\n\u001b[0;32m    610\u001b[0m         query \u001b[39m=\u001b[39m query\u001b[39m.\u001b[39mencode(\u001b[39m\"\u001b[39m\u001b[39mutf-8\u001b[39m\u001b[39m\"\u001b[39m)\n\u001b[1;32m--> 611\u001b[0m     \u001b[39mself\u001b[39;49m\u001b[39m.\u001b[39;49m_cmysql\u001b[39m.\u001b[39;49mquery(\n\u001b[0;32m    612\u001b[0m         query,\n\u001b[0;32m    613\u001b[0m         raw\u001b[39m=\u001b[39;49mraw,\n\u001b[0;32m    614\u001b[0m         buffered\u001b[39m=\u001b[39;49mbuffered,\n\u001b[0;32m    615\u001b[0m         raw_as_string\u001b[39m=\u001b[39;49mraw_as_string,\n\u001b[0;32m    616\u001b[0m         query_attrs\u001b[39m=\u001b[39;49m\u001b[39mself\u001b[39;49m\u001b[39m.\u001b[39;49m_query_attrs,\n\u001b[0;32m    617\u001b[0m     )\n\u001b[0;32m    618\u001b[0m \u001b[39mexcept\u001b[39;00m MySQLInterfaceError \u001b[39mas\u001b[39;00m err:\n\u001b[0;32m    619\u001b[0m     \u001b[39mraise\u001b[39;00m get_mysql_exception(\n\u001b[0;32m    620\u001b[0m         err\u001b[39m.\u001b[39merrno, msg\u001b[39m=\u001b[39merr\u001b[39m.\u001b[39mmsg, sqlstate\u001b[39m=\u001b[39merr\u001b[39m.\u001b[39msqlstate\n\u001b[0;32m    621\u001b[0m     ) \u001b[39mfrom\u001b[39;00m \u001b[39merr\u001b[39;00m\n",
      "\u001b[1;31mKeyboardInterrupt\u001b[0m: "
     ]
    }
   ],
   "source": [
    "all_articles:list[RSS_Article] = dbConn.getAllArticles()\n",
    "\n",
    "article_set:Article_Set = Article_Set('North Korea', 'Articles discussing North Korean actors')\n",
    "\n",
    "i = 0\n",
    "while i < 5: \n",
    "    article_set.articles_in_set.append(all_articles[i])\n",
    "    i+=1\n"
   ]
  },
  {
   "cell_type": "code",
   "execution_count": null,
   "metadata": {},
   "outputs": [],
   "source": [
    "article_set.to_excel('testing')"
   ]
  },
  {
   "cell_type": "markdown",
   "metadata": {},
   "source": [
    "## Tag_Set"
   ]
  },
  {
   "cell_type": "code",
   "execution_count": null,
   "metadata": {},
   "outputs": [],
   "source": [
    "tag_set:Tag_Set = Tag_Set('KITTEN', 'Iranian threat actors')\n",
    "\n",
    "all_tags:list[Tag] = dbConn.getAllTags()\n",
    "\n",
    "i = 0\n",
    "while i < 5: \n",
    "    tag_set.tags_in_set.append(all_tags[i])\n",
    "    i+=1\n",
    "    "
   ]
  },
  {
   "cell_type": "code",
   "execution_count": null,
   "metadata": {},
   "outputs": [],
   "source": [
    "tag_set.to_excel('testing')"
   ]
  }
 ],
 "metadata": {
  "kernelspec": {
   "display_name": "Python 3",
   "language": "python",
   "name": "python3"
  },
  "language_info": {
   "codemirror_mode": {
    "name": "ipython",
    "version": 3
   },
   "file_extension": ".py",
   "mimetype": "text/x-python",
   "name": "python",
   "nbconvert_exporter": "python",
   "pygments_lexer": "ipython3",
   "version": "3.11.4"
  },
  "orig_nbformat": 4
 },
 "nbformat": 4,
 "nbformat_minor": 2
}
