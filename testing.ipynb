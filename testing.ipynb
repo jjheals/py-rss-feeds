{
 "cells": [
  {
   "cell_type": "code",
   "execution_count": 8,
   "metadata": {},
   "outputs": [],
   "source": [
    "import requests \n",
    "from bs4 import BeautifulSoup\n",
    "from FP_Classes.RSS_Feed import RSS_Article"
   ]
  },
  {
   "cell_type": "markdown",
   "metadata": {},
   "source": [
    "#### DB Connection & Updates"
   ]
  },
  {
   "cell_type": "code",
   "execution_count": 2,
   "metadata": {},
   "outputs": [
    {
     "name": "stdout",
     "output_type": "stream",
     "text": [
      "\n",
      "NOTICE in RSS_DB_Connection.newTagsFromExcel(): called newTagsFromExcel() - beginning process.\n",
      "NOTICE in RSS_DB_Connection.newTagsFromExcel(): excel sheet read and DB connection established successfully. Formatting query...\n",
      "NOTICE in RSS_DB_Connection.newTagsFromExcel(): new tag queries formatted and executed successfully. Terminating connections and quitting.\n",
      "SUCCESS.\n",
      "Number of tags: 56\n"
     ]
    }
   ],
   "source": [
    "from FP_Classes.RSS_DB_Connection import RSS_DB_Connection\n",
    "import json \n",
    "\n",
    "db_creds = json.load(open('config/db_creds.json'))\n",
    "db_conn = RSS_DB_Connection(username=db_creds['username'],\n",
    "                            password=db_creds['password'],\n",
    "                            host=db_creds['host']\n",
    "                        )\n",
    "\n",
    "db_conn.newTagsFromExcel('config/all_tags.xlsx')\n",
    "all_tags = db_conn.getAllTags()\n",
    "print(f\"Number of tags: {len(all_tags)}\")\n"
   ]
  },
  {
   "cell_type": "code",
   "execution_count": 9,
   "metadata": {},
   "outputs": [
    {
     "name": "stdout",
     "output_type": "stream",
     "text": [
      "[+] INIT article \"BleepingComputer - CISA issues new warning on actively exploited Ivanti MobileIron bugs\"\n",
      "[+] INIT article \"BleepingComputer - Hackers steal Signal, WhatsApp user data with fake Android chat app\"\n",
      "[+] INIT article \"Defense-gov Explore Feed - Joint Statement on Australia-U.S. Ministerial Consultations (AUSMIN) 2023\"\n",
      "[+] INIT article \"BleepingComputer - Hackers use new malware to breach air-gapped devices in Eastern Europe\"\n"
     ]
    }
   ],
   "source": [
    "tagged_articles:dict[str, RSS_Article] = db_conn.getArticlesForTags(['China', 'APT'])\n"
   ]
  },
  {
   "cell_type": "code",
   "execution_count": 11,
   "metadata": {},
   "outputs": [
    {
     "name": "stdout",
     "output_type": "stream",
     "text": [
      "BleepingComputer: CISA issues new warning on actively exploited Ivanti MobileIron bugs\n",
      "\t\tLink: https://www.bleepingcomputer.com/news/security/cisa-issues-new-warning-on-actively-exploited-ivanti-mobileiron-bugs/\n",
      "\t\tPublish Date: CISA issues new warning on actively exploited Ivanti MobileIron bugs\n",
      "\t\tDescription: 2023-08-01\n",
      " ['APT']\n",
      "BleepingComputer: Hackers steal Signal, WhatsApp user data with fake Android chat app\n",
      "\t\tLink: https://www.bleepingcomputer.com/news/security/hackers-steal-signal-whatsapp-user-data-with-fake-android-chat-app/\n",
      "\t\tPublish Date: Hackers steal Signal, WhatsApp user data with fake Android chat app\n",
      "\t\tDescription: 2023-07-31\n",
      " ['China', 'APT']\n",
      "Defense-gov Explore Feed: Joint Statement on Australia-U.S. Ministerial Consultations (AUSMIN) 2023\n",
      "\t\tLink: https://www.defense.gov/News/Releases/Release/Article/3476104/joint-statement-on-australia-us-ministerial-consultations-ausmin-2023/\n",
      "\t\tPublish Date: Joint Statement on Australia-U.S. Ministerial Consultations (AUSMIN) 2023\n",
      "\t\tDescription: 2023-07-29\n",
      " ['China']\n",
      "BleepingComputer: Hackers use new malware to breach air-gapped devices in Eastern Europe\n",
      "\t\tLink: https://www.bleepingcomputer.com/news/security/hackers-use-new-malware-to-breach-air-gapped-devices-in-eastern-europe/\n",
      "\t\tPublish Date: Hackers use new malware to breach air-gapped devices in Eastern Europe\n",
      "\t\tDescription: 2023-08-01\n",
      " ['APT']\n"
     ]
    }
   ],
   "source": [
    "for a in tagged_articles.values(): print(a.toString(), a.tags)"
   ]
  },
  {
   "cell_type": "markdown",
   "metadata": {},
   "source": [
    "#### BleepingComputerRSS"
   ]
  },
  {
   "cell_type": "code",
   "execution_count": 2,
   "metadata": {},
   "outputs": [
    {
     "name": "stdout",
     "output_type": "stream",
     "text": [
      "[+] Initializing feed: BleepingComputer | https://www.bleepingcomputer.com/feed/\n"
     ]
    }
   ],
   "source": [
    "from FP_Classes.Feeds.BleepingComputer import BleepingComputerRSS\n",
    "bc_feed = BleepingComputerRSS()\n",
    "bc_feed.to_excel('testing/', 'bleepcomp-testing.xlsx')"
   ]
  },
  {
   "cell_type": "code",
   "execution_count": 3,
   "metadata": {},
   "outputs": [
    {
     "name": "stdout",
     "output_type": "stream",
     "text": [
      "[+] Classifying all articles for BleepingComputer | number of articles: 12\n",
      "\tClassifying article 1/12\n",
      "\t\t[+] Classifying article Hackers use new malware to breach air-gapped devices in Eastern Europe | https://www.bleepingcomputer.com/news/security/hackers-use-new-malware-to-breach-air-gapped-devices-in-eastern-europe/\n",
      "\t\t[+] Getting article content...\n",
      "\t\t[+] Preprocessing content\n",
      " \n",
      "\tClassifying article 2/12\n",
      "\t\t[+] Classifying article Threat actors abuse Google AMP for evasive phishing attacks | https://www.bleepingcomputer.com/news/security/threat-actors-abuse-google-amp-for-evasive-phishing-attacks/\n",
      "\t\t[+] Getting article content...\n",
      "\t\t[+] Preprocessing content\n",
      " \n",
      "\tClassifying article 3/12\n",
      "\t\t[+] Classifying article CISA issues new warning on actively exploited Ivanti MobileIron bugs | https://www.bleepingcomputer.com/news/security/cisa-issues-new-warning-on-actively-exploited-ivanti-mobileiron-bugs/\n",
      "\t\t[+] Getting article content...\n",
      "\t\t[+] Preprocessing content\n",
      " \n",
      "\tClassifying article 4/12\n",
      "\t\t[+] Classifying article Retail chain Hot Topic discloses wave of credential-stuffing attacks | https://www.bleepingcomputer.com/news/security/retail-chain-hot-topic-discloses-wave-of-credential-stuffing-attacks/\n",
      "\t\t[+] Getting article content...\n",
      "\t\t[+] Preprocessing content\n",
      " \n",
      "\tClassifying article 5/12\n",
      "\t\t[+] Classifying article Cybercriminals train AI chatbots for phishing, malware attacks | https://www.bleepingcomputer.com/news/security/cybercriminals-train-ai-chatbots-for-phishing-malware-attacks/\n",
      "\t\t[+] Getting article content...\n",
      "\t\t[+] Preprocessing content\n",
      " \n",
      "\tClassifying article 6/12\n",
      "\t\t[+] Classifying article How to manage a mass password reset due to a ransomware attack | https://www.bleepingcomputer.com/news/security/how-to-manage-a-mass-password-reset-due-to-a-ransomware-attack/\n",
      "\t\t[+] Getting article content...\n",
      "\t\t[+] Preprocessing content\n",
      " \n",
      "\tClassifying article 7/12\n",
      "\t\t[+] Classifying article Hackers steal Signal, WhatsApp user data with fake Android chat app | https://www.bleepingcomputer.com/news/security/hackers-steal-signal-whatsapp-user-data-with-fake-android-chat-app/\n",
      "\t\t[+] Getting article content...\n",
      "\t\t[+] Preprocessing content\n",
      " \n",
      "\tClassifying article 8/12\n",
      "\t\t[+] Classifying article Google warns again it will start deleting inactive accounts in December | https://www.bleepingcomputer.com/news/google/google-warns-again-it-will-start-deleting-inactive-accounts-in-december/\n",
      "\t\t[+] Getting article content...\n",
      "\t\t[+] Preprocessing content\n",
      " \n",
      "\tClassifying article 9/12\n",
      "\t\t[+] Classifying article Canon warns of Wi-Fi security risks when discarding inkjet printers | https://www.bleepingcomputer.com/news/security/canon-warns-of-wi-fi-security-risks-when-discarding-inkjet-printers/\n",
      "\t\t[+] Getting article content...\n",
      "\t\t[+] Preprocessing content\n",
      " \n",
      "\tClassifying article 10/12\n",
      "\t\t[+] Classifying article P2PInfect server botnet spreads using Redis replication feature | https://www.bleepingcomputer.com/news/security/p2pinfect-server-botnet-spreads-using-redis-replication-feature/\n",
      "\t\t[+] Getting article content...\n",
      "\t\t[+] Preprocessing content\n",
      " \n",
      "\tClassifying article 11/12\n",
      "\t\t[+] Classifying article Hackers exploit BleedingPipe RCE to target Minecraft servers, players | https://www.bleepingcomputer.com/news/security/hackers-exploit-bleedingpipe-rce-to-target-minecraft-servers-players/\n",
      "\t\t[+] Getting article content...\n",
      "\t\t[+] Preprocessing content\n",
      " \n",
      "\tClassifying article 12/12\n",
      "\t\t[+] Classifying article Microsoft fixes WSUS servers not pushing Windows 11 22H2 updates | https://www.bleepingcomputer.com/news/microsoft/microsoft-fixes-wsus-servers-not-pushing-windows-11-22h2-updates/\n",
      "\t\t[+] Getting article content...\n",
      "\t\t[+] Preprocessing content\n",
      " \n",
      "\n",
      "NOTICE: Done classifying articles for BleepingComputer. Exiting.\n"
     ]
    },
    {
     "data": {
      "text/plain": [
       "True"
      ]
     },
     "execution_count": 3,
     "metadata": {},
     "output_type": "execute_result"
    }
   ],
   "source": [
    "bc_feed.classifyArticles(all_tags, 200)\n",
    "bc_feed.articleTagsToExcel('testing/', 'bleepcomp-tags-testing.xlsx')"
   ]
  },
  {
   "cell_type": "code",
   "execution_count": 5,
   "metadata": {},
   "outputs": [
    {
     "name": "stdout",
     "output_type": "stream",
     "text": [
      "BleepingComputer: Threat actors abuse Google AMP for evasive phishing attacks\n",
      "\t\tLink: https://www.bleepingcomputer.com/news/security/threat-actors-abuse-google-amp-for-evasive-phishing-attacks/\n",
      "\t\tPublish Date: 2023-08-01\n",
      "\t\tDescription: Security researchers are warning of increased phishing activity that abuses Google Accelerated Mobile Pages (AMP) to bypass email security measures and get to inboxes of enterprise employees. [...]\n",
      "\n",
      "\n",
      "\n",
      "Security researchers are warning of increased phishing activity that abuses Google Accelerated Mobile Pages (AMP) to bypass email security measures and get to inboxes of enterprise employees.\n",
      "Google AMP is an open-source HTML framework co-developed by Google and 30 partners to make web content load faster on mobile devices.\n",
      "AMP pages are hosted on Google’s servers, where content is simplified and some of the heavier media elements are pre-loaded for faster delivery.\n",
      "The idea behind using Google AMP URLs embedded in phishing emails is to make sure that email protection technology does not flag messages as malicious or suspicious due to Google’s good reputation.\n",
      "The AMP URLs trigger a redirection to a malicious phishing site, and this additional step also adds an analysis-disrupting layer.\n",
      "\n",
      "Google AMP redirection to a phishing site (Cofense)\n",
      "Data from anti-phishing protection company Cofense shows that the volume of phishing attacks employing AMP spiked spiked significantly towards mid-July, suggesting that threat actors may be adopting the method.\n",
      "\n",
      "Phishing emails leveraging Google AMP for stealth (Cofense)\n",
      "“Out of all the Google AMP URLs we have observed, approximately 77% were hosted on the domain google.com, and 23% were hosted on the domain google.co.uk,” explains Cofense in the report.\n",
      "Although the “google.com/amp/s/” path is common in all cases, blocking this would also impact all legitimate cases of using Google AMP. However, flagging them may be the most appropriate action, to at least alert recipients to be wary of potentially malicious redirections.\n",
      "Extra stealth\n",
      "Cofense says the phishing actors who abuse the Google AMP service also employ a range of additional techniques that collectively help evade detection and increase their success rate.\n",
      "For example, in many cases observed by Cofense, the threat actors used image-based HTML emails instead of a traditional text body. This is to confuse text scanners that look for common phishing terms in the message content.\n",
      "\n",
      "Image-based phishing email (Cofense)\n",
      "In another example, the attackers used an extra redirection step, abusing a Microsoft.com URL to take the victim to a Google AMP domain and eventually to the actual phishing site.\n",
      "\n",
      "Microsoft redirection to a Google AMP site (Cofense)\n",
      "Finally, attackers employed Cloudflare’s CAPTCHA service to thwart automated analysis of the phishing pages by security bots, preventing the crawlers from reaching them.\n",
      "All in all, phishing actors today employ multiple detection-evading methods that make it increasingly difficult for targets and security tools to catch the threats and block them.\n",
      "\n",
      "Related Articles:\n",
      "Online sellers targeted by new information-stealing malware campaignHackers steal Signal, WhatsApp user data with fake Android chat appGoogle warns again it will start deleting inactive accounts in DecemberBrowser developers push back on Google's “web DRM” WEI APIGoogle: Android patch gap makes n-days as dangerous as zero-days\n",
      "\n",
      "\n"
     ]
    }
   ],
   "source": [
    "print(bc_feed.articles[1].toString())\n",
    "print(bc_feed.articles[1].__getArticleContent__())"
   ]
  },
  {
   "cell_type": "markdown",
   "metadata": {},
   "source": [
    "#### CensysRSS"
   ]
  },
  {
   "cell_type": "code",
   "execution_count": null,
   "metadata": {},
   "outputs": [],
   "source": [
    "from FP_Classes.Feeds.Censys import CensysRSS"
   ]
  },
  {
   "cell_type": "code",
   "execution_count": null,
   "metadata": {},
   "outputs": [],
   "source": [
    "censysRSS = CensysRSS()\n",
    "censysRSS.to_excel('testing/', 'censys-test.xlsx')"
   ]
  },
  {
   "cell_type": "code",
   "execution_count": null,
   "metadata": {},
   "outputs": [],
   "source": [
    "censysRSS.classifyArticles(all_tags, 200)\n",
    "censysRSS.articleTagsToExcel('testing/', 'censys-tags-testing.xlsx')"
   ]
  },
  {
   "cell_type": "code",
   "execution_count": null,
   "metadata": {},
   "outputs": [],
   "source": [
    "def get_article_content(url):\n",
    "    try:\n",
    "        headers = {\n",
    "            'User-Agent': 'Mozilla/5.0 (Windows NT 10.0; Win64; x64) AppleWebKit/537.36 (KHTML, like Gecko) Chrome/58.0.3029.110 Safari/537.36'\n",
    "        }\n",
    "        response = requests.get(url, headers=headers)\n",
    "        response.raise_for_status()\n",
    "        soup = BeautifulSoup(response.text, 'html.parser')\n",
    "        article_content = soup.find('div', class_='par parsys')\n",
    "        return article_content.get_text() if article_content else \"Content not found.\"\n",
    "        \n",
    "    except requests.exceptions.RequestException as e:\n",
    "        return f\"Error fetching the article: {e}\"\n",
    "    except Exception as e:\n",
    "        return f\"Error: {e}\"\n",
    "\n",
    "# Example usage:\n",
    "url = 'https://www.census.gov/newsroom/blogs/global-reach/2022/04/exports-united-states-puerto-rico.html'  # Replace this with the URL of the article you want to fetch.\n",
    "article_content = get_article_content(url)\n",
    "print(article_content)"
   ]
  },
  {
   "cell_type": "markdown",
   "metadata": {},
   "source": [
    "#### CensysDirRSS"
   ]
  },
  {
   "cell_type": "code",
   "execution_count": null,
   "metadata": {},
   "outputs": [],
   "source": [
    "from FP_Classes.Feeds.CensysDir import CensysDirRSS"
   ]
  },
  {
   "cell_type": "code",
   "execution_count": null,
   "metadata": {},
   "outputs": [],
   "source": [
    "censysDirRSS = CensysDirRSS()\n",
    "censysDirRSS.to_excel('testing/', 'censysdir-test.xlsx')"
   ]
  },
  {
   "cell_type": "code",
   "execution_count": null,
   "metadata": {},
   "outputs": [],
   "source": [
    "censysDirRSS.classifyArticles(all_tags, 200)\n",
    "censysDirRSS.articleTagsToExcel('testing/', 'censysdir-tags-testing.xlsx')"
   ]
  },
  {
   "cell_type": "markdown",
   "metadata": {},
   "source": [
    "#### StateDeptRSS"
   ]
  },
  {
   "cell_type": "code",
   "execution_count": null,
   "metadata": {},
   "outputs": [],
   "source": [
    "from FP_Classes.Feeds.StateDepartment import StateDeptRSS"
   ]
  },
  {
   "cell_type": "code",
   "execution_count": null,
   "metadata": {},
   "outputs": [],
   "source": [
    "sdRSS = StateDeptRSS()\n",
    "sdRSS.to_excel('testing/', 'sd-testing.xlsx')\n"
   ]
  },
  {
   "cell_type": "code",
   "execution_count": null,
   "metadata": {},
   "outputs": [],
   "source": [
    "sdRSS.classifyArticles(all_tags, 200)\n",
    "sdRSS.articleTagsToExcel('testing/', 'sd-tags-testing.xlsx')"
   ]
  },
  {
   "cell_type": "markdown",
   "metadata": {},
   "source": [
    "#### DefenseDeptRSS"
   ]
  },
  {
   "cell_type": "code",
   "execution_count": 6,
   "metadata": {},
   "outputs": [],
   "source": [
    "from FP_Classes.Feeds.DefenseDepartment import DefenseDeptRSS"
   ]
  },
  {
   "cell_type": "code",
   "execution_count": 7,
   "metadata": {},
   "outputs": [
    {
     "name": "stdout",
     "output_type": "stream",
     "text": [
      "[+] Initializing feed: Defense-gov Explore Feed | https://www.defense.gov/news/rss/\n",
      "\tGetting articles for link 1/3 | https://www.defense.gov/DesktopModules/ArticleCS/RSS.ashx?ContentType=2&Site=945&max=10\n",
      "\t\tFound 10 articles.\n",
      "\t\t\tArticle: On-Camera Press Briefing\n",
      "\t\t\tArticle: Joint U.S. - Australia Press Conference Tonight, 12:10 a.m. EDT\n",
      "\t\t\tArticle: Secretary of Defense Lloyd J. Austin III, Papua New Guinea Prime Minister James Marape Press Briefing Today at 9:00 p.m.\n",
      "\t\t\tArticle: Pentagon Commemorates 75th Anniversary of Desegregation in the Federal Workforce and Armed Forces\n",
      "\t\t\tArticle: On-Camera Press Briefing\n",
      "\t\t\tArticle: Secretary of Defense Travel to Papua New Guinea, Australia\n",
      "\t\t\tArticle: Secretary of Defense Austin and Chairman of the Joint Chiefs of Staff Gen. Milley Press Conference Today at 12:30 p.m.\n",
      "\t\t\tArticle: Department of Defense Media Invitation Announced for Appellate Oral Argument in the Case of Adb Al Rahim Hussayn Muhammad Al-Nashiri\n",
      "\t\t\tArticle: On-Camera Press Briefing\n",
      "\t\t\tArticle: Secretary of Defense to Administer Oath of Enlistment at Baltimore Military Entrance Processing Station\n",
      "\tGetting articles for link 2/3 | https://www.defense.gov/DesktopModules/ArticleCS/RSS.ashx?ContentType=9&Site=945&max=10\n",
      "\t\tFound 10 articles.\n",
      "\t\t\tArticle: Statement From Pentagon Press Secretary Brig. Gen. Patrick Ryder on U.S. Space Command\n",
      "\t\t\tArticle: Defense Department Updates Its Law of War Manual\n",
      "\t\t\tArticle: Statement by Secretary of Defense Lloyd J. Austin III on the Upcoming Departure of Under Secretary of Defense for Personnel and Readiness Gilbert R. Cisneros, Jr.\n",
      "\t\t\tArticle: Readout of Under Secretary of Defense for Acquisition and Sustainment, Dr. William LaPlante, and the Republic of Korea's Minister of Defense, Acquisition Program Administration, Mr. Eom Dong-hwan, Co-Chairing of the 48th Annual Defense Technological and Industrial Cooperation Committee\n",
      "\t\t\tArticle: Joint Statement on Australia-U.S. Ministerial Consultations (AUSMIN) 2023\n",
      "\t\t\tArticle: Fact Sheet: 2023 Australia – U.S. Ministerial Consultations (AUSMIN)\n",
      "\t\t\tArticle: Navy to Christen Guided-Missile Destroyer Harvey C. Barnum Jr. (DDG 124)\n",
      "\t\t\tArticle: Flag Officer Announcements\n",
      "\t\t\tArticle: General Officer Announcement\n",
      "\t\t\tArticle: Readout of Secretary of Defense Lloyd J. Austin III Meetings With Papua New Guinea (PNG) Prime Minister and Defence Council\n",
      "\tGetting articles for link 3/3 | https://www.defense.gov/DesktopModules/ArticleCS/RSS.ashx?ContentType=800&Site=945&max=10\n",
      "\t\tFound 10 articles.\n",
      "\t\t\tArticle: Face of Defense: From Trombones and Marathons to Combat Camera\n",
      "\t\t\tArticle: Ryan Strong: A Pediatric Cancer Patient's Remarkable Recovery Journey\n",
      "\t\t\tArticle: Medal of Honor Monday: Marine Corps Pvt. Joseph Ozbourn\n",
      "\t\t\tArticle: Troops, Locals Forge Friendship During Talisman Sabre\n",
      "\t\t\tArticle: Marine Corps Sergeant Deploys Again to Australia\n",
      "\t\t\tArticle: Firefighter Who Loves Challenges Enlists in the Marine Corps\n",
      "\t\t\tArticle: Haitian Teen Learns English, Then Joins Marine Corps\n",
      "\t\t\tArticle: Warship's Crew Brings 'Can Do' Attitude\n",
      "\t\t\tArticle: NFL Player Trains With Troops, Hold Clinics for Military Kids in Japan\n",
      "\t\t\tArticle: The Journey to Becoming an Air Force Cadet\n"
     ]
    }
   ],
   "source": [
    "dodRSS = DefenseDeptRSS()\n",
    "dodRSS.to_excel('testing/', 'dod-testing.xlsx')"
   ]
  },
  {
   "cell_type": "code",
   "execution_count": 8,
   "metadata": {},
   "outputs": [
    {
     "name": "stdout",
     "output_type": "stream",
     "text": [
      "[+] Classifying all articles for Defense-gov Explore Feed | number of articles: 30\n",
      "\tClassifying article 1/30\n",
      "\t\t[+] Classifying article On-Camera Press Briefing | https://www.defense.gov/News/Advisories/Advisory/Article/3478555/on-camera-press-briefing/\n",
      "\t\t[+] Getting article content...\n",
      "\t\t[+] Preprocessing content\n",
      " \n",
      "\tClassifying article 2/30\n",
      "\t\t[+] Classifying article Joint U.S. - Australia Press Conference Tonight, 12:10 a.m. EDT | https://www.defense.gov/News/Advisories/Advisory/Article/3475871/joint-us-australia-press-conference-tonight-1210-am-edt/\n",
      "\t\t[+] Getting article content...\n",
      "\t\t[+] Preprocessing content\n",
      " \n",
      "\tClassifying article 3/30\n",
      "\t\t[+] Classifying article Secretary of Defense Lloyd J. Austin III, Papua New Guinea Prime Minister James Marape Press Briefing Today at 9:00 p.m. | https://www.defense.gov/News/Advisories/Advisory/Article/3471936/secretary-of-defense-lloyd-j-austin-iii-papua-new-guinea-prime-minister-james-m/\n",
      "\t\t[+] Getting article content...\n",
      "\t\t[+] Preprocessing content\n",
      " \n",
      "\tClassifying article 4/30\n",
      "\t\t[+] Classifying article Pentagon Commemorates 75th Anniversary of Desegregation in the Federal Workforce and Armed Forces | https://www.defense.gov/News/Advisories/Advisory/Article/3471092/pentagon-commemorates-75th-anniversary-of-desegregation-in-the-federal-workforc/\n",
      "\t\t[+] Getting article content...\n",
      "\t\t[+] Preprocessing content\n",
      " \n",
      "\tClassifying article 5/30\n",
      "\t\t[+] Classifying article On-Camera Press Briefing | https://www.defense.gov/News/Advisories/Advisory/Article/3465006/on-camera-press-briefing/\n",
      "\t\t[+] Getting article content...\n",
      "\t\t[+] Preprocessing content\n",
      " \n",
      "\tClassifying article 6/30\n",
      "\t\t[+] Classifying article Secretary of Defense Travel to Papua New Guinea, Australia | https://www.defense.gov/News/Advisories/Advisory/Article/3462840/secretary-of-defense-travel-to-papua-new-guinea-australia/\n",
      "\t\t[+] Getting article content...\n",
      "\t\t[+] Preprocessing content\n",
      " \n",
      "\tClassifying article 7/30\n",
      "\t\t[+] Classifying article Secretary of Defense Austin and Chairman of the Joint Chiefs of Staff Gen. Milley Press Conference Today at 12:30 p.m. | https://www.defense.gov/News/Advisories/Advisory/Article/3461684/secretary-of-defense-austin-and-chairman-of-the-joint-chiefs-of-staff-gen-mille/\n",
      "\t\t[+] Getting article content...\n",
      "\t\t[+] Preprocessing content\n",
      " \n",
      "\tClassifying article 8/30\n",
      "\t\t[+] Classifying article Department of Defense Media Invitation Announced for Appellate Oral Argument in the Case of Adb Al Rahim Hussayn Muhammad Al-Nashiri | https://www.defense.gov/News/Advisories/Advisory/Article/3459176/department-of-defense-media-invitation-announced-for-appellate-oral-argument-in/\n",
      "\t\t[+] Getting article content...\n",
      "\t\t[+] Preprocessing content\n",
      " \n",
      "\tClassifying article 9/30\n",
      "\t\t[+] Classifying article On-Camera Press Briefing | https://www.defense.gov/News/Advisories/Advisory/Article/3449462/on-camera-press-briefing/\n",
      "\t\t[+] Getting article content...\n",
      "\t\t[+] Preprocessing content\n",
      " \n",
      "\tClassifying article 10/30\n",
      "\t\t[+] Classifying article Secretary of Defense to Administer Oath of Enlistment at Baltimore Military Entrance Processing Station | https://www.defense.gov/News/Advisories/Advisory/Article/3447879/secretary-of-defense-to-administer-oath-of-enlistment-at-baltimore-military-ent/\n",
      "\t\t[+] Getting article content...\n",
      "\t\t[+] Preprocessing content\n",
      " \n",
      "\tClassifying article 11/30\n",
      "\t\t[+] Classifying article Statement From Pentagon Press Secretary Brig. Gen. Patrick Ryder on U.S. Space Command | https://www.defense.gov/News/Releases/Release/Article/3477514/statement-from-pentagon-press-secretary-brig-gen-patrick-ryder-on-us-space-comm/\n",
      "\t\t[+] Getting article content...\n",
      "\t\t[+] Preprocessing content\n",
      " \n",
      "\tClassifying article 12/30\n",
      "\t\t[+] Classifying article Defense Department Updates Its Law of War Manual | https://www.defense.gov/News/Releases/Release/Article/3477385/defense-department-updates-its-law-of-war-manual/\n",
      "\t\t[+] Getting article content...\n",
      "\t\t[+] Preprocessing content\n",
      " \n",
      "\tClassifying article 13/30\n",
      "\t\t[+] Classifying article Statement by Secretary of Defense Lloyd J. Austin III on the Upcoming Departure of Under Secretary of Defense for Personnel and Readiness Gilbert R. Cisneros, Jr. | https://www.defense.gov/News/Releases/Release/Article/3476584/statement-by-secretary-of-defense-lloyd-j-austin-iii-on-the-upcoming-departure/\n",
      "\t\t[+] Getting article content...\n",
      "\t\t[+] Preprocessing content\n",
      " \n",
      "\tClassifying article 14/30\n",
      "\t\t[+] Classifying article Readout of Under Secretary of Defense for Acquisition and Sustainment, Dr. William LaPlante, and the Republic of Korea's Minister of Defense, Acquisition Program Administration, Mr. Eom Dong-hwan, Co-Chairing of the 48th Annual Defense Technological and Industrial Cooperation Committee | https://www.defense.gov/News/Releases/Release/Article/3476256/readout-of-under-secretary-of-defense-for-acquisition-and-sustainment-dr-willia/\n",
      "\t\t[+] Getting article content...\n",
      "\t\t[+] Preprocessing content\n",
      " \n",
      "\tClassifying article 15/30\n",
      "\t\t[+] Classifying article Joint Statement on Australia-U.S. Ministerial Consultations (AUSMIN) 2023 | https://www.defense.gov/News/Releases/Release/Article/3476104/joint-statement-on-australia-us-ministerial-consultations-ausmin-2023/\n",
      "\t\t[+] Getting article content...\n",
      "\t\t[+] Preprocessing content\n",
      " \n",
      "\tClassifying article 16/30\n",
      "\t\t[+] Classifying article Fact Sheet: 2023 Australia – U.S. Ministerial Consultations (AUSMIN) | https://www.defense.gov/News/Releases/Release/Article/3476036/fact-sheet-2023-australia-us-ministerial-consultations-ausmin/\n",
      "\t\t[+] Getting article content...\n",
      "\t\t[+] Preprocessing content\n",
      " \n",
      "\tClassifying article 17/30\n",
      "\t\t[+] Classifying article Navy to Christen Guided-Missile Destroyer Harvey C. Barnum Jr. (DDG 124) | https://www.defense.gov/News/Releases/Release/Article/3474735/navy-to-christen-guided-missile-destroyer-harvey-c-barnum-jr-ddg-124/\n",
      "\t\t[+] Getting article content...\n",
      "\t\t[+] Preprocessing content\n",
      " \n",
      "\tClassifying article 18/30\n",
      "\t\t[+] Classifying article Flag Officer Announcements | https://www.defense.gov/News/Releases/Release/Article/3473976/flag-officer-announcements/\n",
      "\t\t[+] Getting article content...\n",
      "\t\t[+] Preprocessing content\n",
      " \n",
      "\tClassifying article 19/30\n",
      "\t\t[+] Classifying article General Officer Announcement | https://www.defense.gov/News/Releases/Release/Article/3473966/general-officer-announcement/\n",
      "\t\t[+] Getting article content...\n",
      "\t\t[+] Preprocessing content\n",
      " \n",
      "\tClassifying article 20/30\n",
      "\t\t[+] Classifying article Readout of Secretary of Defense Lloyd J. Austin III Meetings With Papua New Guinea (PNG) Prime Minister and Defence Council | https://www.defense.gov/News/Releases/Release/Article/3472660/readout-of-secretary-of-defense-lloyd-j-austin-iii-meetings-with-papua-new-guin/\n",
      "\t\t[+] Getting article content...\n",
      "\t\t[+] Preprocessing content\n",
      " \n",
      "\tClassifying article 21/30\n",
      "\t\t[+] Classifying article Face of Defense: From Trombones and Marathons to Combat Camera | https://www.defense.gov/News/Feature-Stories/Story/Article/3474952/face-of-defense-from-trombones-and-marathons-to-combat-camera/\n",
      "\t\t[+] Getting article content...\n",
      "\t\t[+] Preprocessing content\n",
      " \n",
      "\tClassifying article 22/30\n",
      "\t\t[+] Classifying article Ryan Strong: A Pediatric Cancer Patient's Remarkable Recovery Journey | https://www.defense.gov/News/Feature-Stories/Story/Article/3477047/ryan-strong-a-pediatric-cancer-patients-remarkable-recovery-journey/\n",
      "\t\t[+] Getting article content...\n",
      "\t\t[+] Preprocessing content\n",
      " \n",
      "\tClassifying article 23/30\n",
      "\t\t[+] Classifying article Medal of Honor Monday: Marine Corps Pvt. Joseph Ozbourn | https://www.defense.gov/News/Feature-Stories/Story/Article/3472835/medal-of-honor-monday-marine-corps-pvt-joseph-ozbourn/\n",
      "\t\t[+] Getting article content...\n",
      "\t\t[+] Preprocessing content\n",
      " \n",
      "\tClassifying article 24/30\n",
      "\t\t[+] Classifying article Troops, Locals Forge Friendship During Talisman Sabre | https://www.defense.gov/News/Feature-Stories/Story/Article/3475135/troops-locals-forge-friendship-during-talisman-sabre/\n",
      "\t\t[+] Getting article content...\n",
      "\t\t[+] Preprocessing content\n",
      " \n",
      "\tClassifying article 25/30\n",
      "\t\t[+] Classifying article Marine Corps Sergeant Deploys Again to Australia | https://www.defense.gov/News/Feature-Stories/Story/Article/3474955/marine-corps-sergeant-deploys-again-to-australia/\n",
      "\t\t[+] Getting article content...\n",
      "\t\t[+] Preprocessing content\n",
      " \n",
      "\tClassifying article 26/30\n",
      "\t\t[+] Classifying article Firefighter Who Loves Challenges Enlists in the Marine Corps | https://www.defense.gov/News/Feature-Stories/Story/Article/3474940/firefighter-who-loves-challenges-enlists-in-the-marine-corps/\n",
      "\t\t[+] Getting article content...\n",
      "\t\t[+] Preprocessing content\n",
      " \n",
      "\tClassifying article 27/30\n",
      "\t\t[+] Classifying article Haitian Teen Learns English, Then Joins Marine Corps | https://www.defense.gov/News/Feature-Stories/Story/Article/3474520/haitian-teen-learns-english-then-joins-marine-corps/\n",
      "\t\t[+] Getting article content...\n",
      "\t\t[+] Preprocessing content\n",
      " \n",
      "\tClassifying article 28/30\n",
      "\t\t[+] Classifying article Warship's Crew Brings 'Can Do' Attitude | https://www.defense.gov/News/Feature-Stories/Story/Article/3473213/warships-crew-brings-can-do-attitude/\n",
      "\t\t[+] Getting article content...\n",
      "\t\t[+] Preprocessing content\n",
      " \n",
      "\tClassifying article 29/30\n",
      "\t\t[+] Classifying article NFL Player Trains With Troops, Hold Clinics for Military Kids in Japan | https://www.defense.gov/News/Feature-Stories/Story/Article/3473135/nfl-player-trains-with-troops-hold-clinics-for-military-kids-in-japan/\n",
      "\t\t[+] Getting article content...\n",
      "\t\t[+] Preprocessing content\n",
      " \n",
      "\tClassifying article 30/30\n",
      "\t\t[+] Classifying article The Journey to Becoming an Air Force Cadet | https://www.defense.gov/News/Feature-Stories/Story/Article/3468305/the-journey-to-becoming-an-air-force-cadet/\n",
      "\t\t[+] Getting article content...\n",
      "\t\t[+] Preprocessing content\n",
      " \n",
      "\n",
      "NOTICE: Done classifying articles for Defense-gov Explore Feed. Exiting.\n"
     ]
    },
    {
     "data": {
      "text/plain": [
       "True"
      ]
     },
     "execution_count": 8,
     "metadata": {},
     "output_type": "execute_result"
    }
   ],
   "source": [
    "dodRSS.classifyArticles(all_tags, 200)\n",
    "dodRSS.articleTagsToExcel('testing/', 'dod-tags-testing.xlsx')"
   ]
  },
  {
   "cell_type": "code",
   "execution_count": 10,
   "metadata": {},
   "outputs": [
    {
     "data": {
      "text/plain": [
       "'\\n\\n\\nPentagon Press Secretary Brig. Gen. Pat Ryder will hold an on-camera press briefing in the Pentagon Press Briefing Room, 2DE972, at 2:00 p.m. EST, today, August 1, 2023.\\nThere will be 60 chairs for reporters in the room.\\xa0 The seats are available on a first-come, first-served basis.\\xa0 Only one seat per news organization is authorized.\\xa0\\nWi-Fi will be available in the Press Briefing Room.\\xa0 A screen in the foyer in the 2D972 entrance will have the new password.\\nThe briefing will be\\xa0livestreamed on Defense.gov and Twitter.\\xa0 It will also air on Channel 2 in the Pentagon.\\xa0 There is no call-in option for this briefing.\\nPlease email the OSD(PA) Duty Officer at osd.pa.dutyofficer@mail.mil if you have any follow-on questions.\\n\\n\\n'"
      ]
     },
     "execution_count": 10,
     "metadata": {},
     "output_type": "execute_result"
    }
   ],
   "source": [
    "dodArticle1 = dodRSS.articles[0]\n",
    "\n",
    "dodArticle1.__getArticleContent__()"
   ]
  },
  {
   "cell_type": "markdown",
   "metadata": {},
   "source": [
    "#### MicrosoftRSS"
   ]
  },
  {
   "cell_type": "code",
   "execution_count": null,
   "metadata": {},
   "outputs": [],
   "source": [
    "from FP_Classes.Feeds.Microsoft import MicrosoftRSS"
   ]
  },
  {
   "cell_type": "code",
   "execution_count": null,
   "metadata": {},
   "outputs": [],
   "source": [
    "msRSS = MicrosoftRSS()\n",
    "msRSS.to_excel('testing/', 'ms-testing.xlsx')"
   ]
  },
  {
   "cell_type": "code",
   "execution_count": null,
   "metadata": {},
   "outputs": [],
   "source": [
    "msRSS.classifyArticles(all_tags, 200)\n",
    "msRSS.articleTagsToExcel('testing/', 'ms-tags-testing.xlsx')"
   ]
  },
  {
   "cell_type": "markdown",
   "metadata": {},
   "source": [
    "#### NVD_RSS"
   ]
  },
  {
   "cell_type": "code",
   "execution_count": null,
   "metadata": {},
   "outputs": [],
   "source": [
    "from FP_Classes.Feeds.NationalVulnDatabase import NVD_RSS\n"
   ]
  },
  {
   "cell_type": "code",
   "execution_count": null,
   "metadata": {},
   "outputs": [],
   "source": [
    "nvdRSS = NVD_RSS()\n",
    "nvdRSS.to_excel('testing/', 'nvd-testing.xlsx')"
   ]
  },
  {
   "cell_type": "code",
   "execution_count": null,
   "metadata": {},
   "outputs": [],
   "source": [
    "nvdRSS.classifyArticles(all_tags, 50)\n",
    "nvdRSS.articleTagsToExcel('testing/', 'nvd-tags-testing.xlsx')"
   ]
  },
  {
   "cell_type": "markdown",
   "metadata": {},
   "source": [
    "#### NIST_RSS"
   ]
  },
  {
   "cell_type": "code",
   "execution_count": null,
   "metadata": {},
   "outputs": [],
   "source": [
    "from FP_Classes.Feeds.NIST import NIST_RSS"
   ]
  },
  {
   "cell_type": "code",
   "execution_count": null,
   "metadata": {},
   "outputs": [],
   "source": [
    "nistRSS = NIST_RSS()\n",
    "nistRSS.to_excel('testing/', 'nist-testing.xlsx')"
   ]
  },
  {
   "cell_type": "code",
   "execution_count": null,
   "metadata": {},
   "outputs": [],
   "source": [
    "nistRSS.classifyArticles(all_tags, 200)\n",
    "nistRSS.articleTagsToExcel('testing/', 'nist-tags-testing.xlsx')"
   ]
  },
  {
   "cell_type": "markdown",
   "metadata": {},
   "source": [
    "#### HackerNewsRSS"
   ]
  },
  {
   "cell_type": "code",
   "execution_count": null,
   "metadata": {},
   "outputs": [],
   "source": [
    "from FP_Classes.Feeds.TheHackerNews import HackerNewsRSS\n"
   ]
  },
  {
   "cell_type": "code",
   "execution_count": null,
   "metadata": {},
   "outputs": [],
   "source": [
    "hnRSS = HackerNewsRSS()\n",
    "hnRSS.to_excel('testing/', 'hackernews-testing.xlsx')"
   ]
  },
  {
   "cell_type": "code",
   "execution_count": null,
   "metadata": {},
   "outputs": [],
   "source": [
    "hnRSS.classifyArticles(all_tags, 200)\n",
    "hnRSS.articleTagsToExcel('testing/', 'hackernews-tags-testing.xlsx')"
   ]
  },
  {
   "cell_type": "code",
   "execution_count": null,
   "metadata": {},
   "outputs": [],
   "source": [
    "hnArticle = hnRSS.articles[0] \n",
    "print(hnArticle.article_link)\n",
    "print(hnArticle.__getArticleContent__())"
   ]
  },
  {
   "cell_type": "code",
   "execution_count": null,
   "metadata": {},
   "outputs": [],
   "source": [
    "import pandas as pd    \n",
    "\n",
    "df = pd.read_excel('testing/BleepingComputer/bleepcomp-testing.xlsx')\n",
    "\n"
   ]
  },
  {
   "cell_type": "code",
   "execution_count": null,
   "metadata": {},
   "outputs": [],
   "source": [
    "article = bc_feed.articles[0] \n",
    "article.__getArticleContent__()\n",
    "\n",
    "with open('test.txt', 'w') as file: \n",
    "    file.write(article.__getArticleContent__())"
   ]
  }
 ],
 "metadata": {
  "kernelspec": {
   "display_name": "Python 3",
   "language": "python",
   "name": "python3"
  },
  "language_info": {
   "codemirror_mode": {
    "name": "ipython",
    "version": 3
   },
   "file_extension": ".py",
   "mimetype": "text/x-python",
   "name": "python",
   "nbconvert_exporter": "python",
   "pygments_lexer": "ipython3",
   "version": "3.11.4"
  },
  "orig_nbformat": 4
 },
 "nbformat": 4,
 "nbformat_minor": 2
}
